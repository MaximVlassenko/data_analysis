{
 "cells": [
  {
   "cell_type": "markdown",
   "id": "3e5afaee",
   "metadata": {},
   "source": [
    "#### Analysis of TV sales and the impact of advertising on sales.\n",
    "In this example, I will analyze real TV sales data for the period 08/01/22-11/15/22 in Kazakhstan, in one of the largest retail chains selling electronics and home appliances. The data shown in the example is real, but adjustments have been made to maintain confidentiality. Additional conditions: it is known that in the period 01.10-31.10 an advertising campaign was launched in Google Adwords for the LG brand.\n",
    "#### Tasks:\n",
    "1. Analyze TV sales in general.\n",
    "2. Understand whether the advertising campaign had an impact on sales and analyze how much, if so.\n",
    "There are two data sets: TV_Data.xlsx - it stores TV sales data and tv_adv - it contains advertising campaign indicators."
   ]
  },
  {
   "cell_type": "markdown",
   "id": "15a41cf0",
   "metadata": {},
   "source": [
    "We import the first data set and the necessary libraries."
   ]
  },
  {
   "cell_type": "code",
   "execution_count": 903,
   "id": "0c6e225b",
   "metadata": {},
   "outputs": [
    {
     "data": {
      "text/html": [
       "<div>\n",
       "<style scoped>\n",
       "    .dataframe tbody tr th:only-of-type {\n",
       "        vertical-align: middle;\n",
       "    }\n",
       "\n",
       "    .dataframe tbody tr th {\n",
       "        vertical-align: top;\n",
       "    }\n",
       "\n",
       "    .dataframe thead th {\n",
       "        text-align: right;\n",
       "    }\n",
       "</style>\n",
       "<table border=\"1\" class=\"dataframe\">\n",
       "  <thead>\n",
       "    <tr style=\"text-align: right;\">\n",
       "      <th></th>\n",
       "      <th>Point of sale</th>\n",
       "      <th>Day</th>\n",
       "      <th>Month</th>\n",
       "      <th>Year</th>\n",
       "      <th>Date</th>\n",
       "      <th>Nomenclature</th>\n",
       "      <th>Channel</th>\n",
       "      <th>Credit</th>\n",
       "      <th>Brand</th>\n",
       "      <th>Price</th>\n",
       "      <th>Margin</th>\n",
       "      <th>Qty</th>\n",
       "    </tr>\n",
       "  </thead>\n",
       "  <tbody>\n",
       "    <tr>\n",
       "      <th>0</th>\n",
       "      <td>San Francisco</td>\n",
       "      <td>1.0</td>\n",
       "      <td>8.0</td>\n",
       "      <td>NaN</td>\n",
       "      <td>1/8/</td>\n",
       "      <td>TV Samsung Q32YH-PB Smart HD</td>\n",
       "      <td>Online</td>\n",
       "      <td>Yes</td>\n",
       "      <td>Samsung</td>\n",
       "      <td>187.1278</td>\n",
       "      <td>28.069170</td>\n",
       "      <td>1</td>\n",
       "    </tr>\n",
       "    <tr>\n",
       "      <th>1</th>\n",
       "      <td>San Francisco</td>\n",
       "      <td>6.0</td>\n",
       "      <td>8.0</td>\n",
       "      <td>NaN</td>\n",
       "      <td>6/8/</td>\n",
       "      <td>TV Samsung Q32YH-PB Smart HD</td>\n",
       "      <td>B2B</td>\n",
       "      <td>No</td>\n",
       "      <td>Samsung</td>\n",
       "      <td>310.0847</td>\n",
       "      <td>46.512705</td>\n",
       "      <td>1</td>\n",
       "    </tr>\n",
       "    <tr>\n",
       "      <th>2</th>\n",
       "      <td>Austin</td>\n",
       "      <td>4.0</td>\n",
       "      <td>8.0</td>\n",
       "      <td>NaN</td>\n",
       "      <td>4/8/</td>\n",
       "      <td>TV Samsung Q32YH-PB Smart HD</td>\n",
       "      <td>Outlet</td>\n",
       "      <td>No</td>\n",
       "      <td>Samsung</td>\n",
       "      <td>159.3315</td>\n",
       "      <td>23.899725</td>\n",
       "      <td>1</td>\n",
       "    </tr>\n",
       "    <tr>\n",
       "      <th>3</th>\n",
       "      <td>San Francisco</td>\n",
       "      <td>6.0</td>\n",
       "      <td>8.0</td>\n",
       "      <td>NaN</td>\n",
       "      <td>6/8/</td>\n",
       "      <td>TV Samsung Q32YH-PB Smart HD</td>\n",
       "      <td>Online</td>\n",
       "      <td>No</td>\n",
       "      <td>Samsung</td>\n",
       "      <td>158.7596</td>\n",
       "      <td>23.813940</td>\n",
       "      <td>1</td>\n",
       "    </tr>\n",
       "    <tr>\n",
       "      <th>4</th>\n",
       "      <td>New York</td>\n",
       "      <td>23.0</td>\n",
       "      <td>8.0</td>\n",
       "      <td>NaN</td>\n",
       "      <td>23/8/</td>\n",
       "      <td>TV Samsung Q32YH-PB Smart HD</td>\n",
       "      <td>Online</td>\n",
       "      <td>Yes</td>\n",
       "      <td>Samsung</td>\n",
       "      <td>188.3516</td>\n",
       "      <td>28.252740</td>\n",
       "      <td>1</td>\n",
       "    </tr>\n",
       "  </tbody>\n",
       "</table>\n",
       "</div>"
      ],
      "text/plain": [
       "   Point of sale   Day  Month  Year   Date                  Nomenclature  \\\n",
       "0  San Francisco   1.0    8.0   NaN   1/8/  TV Samsung Q32YH-PB Smart HD   \n",
       "1  San Francisco   6.0    8.0   NaN   6/8/  TV Samsung Q32YH-PB Smart HD   \n",
       "2         Austin   4.0    8.0   NaN   4/8/  TV Samsung Q32YH-PB Smart HD   \n",
       "3  San Francisco   6.0    8.0   NaN   6/8/  TV Samsung Q32YH-PB Smart HD   \n",
       "4       New York  23.0    8.0   NaN  23/8/  TV Samsung Q32YH-PB Smart HD   \n",
       "\n",
       "  Channel Credit    Brand     Price     Margin  Qty  \n",
       "0  Online    Yes  Samsung  187.1278  28.069170    1  \n",
       "1     B2B     No  Samsung  310.0847  46.512705    1  \n",
       "2  Outlet     No  Samsung  159.3315  23.899725    1  \n",
       "3  Online     No  Samsung  158.7596  23.813940    1  \n",
       "4  Online    Yes  Samsung  188.3516  28.252740    1  "
      ]
     },
     "execution_count": 903,
     "metadata": {},
     "output_type": "execute_result"
    }
   ],
   "source": [
    "import pandas as pd\n",
    "import numpy as np\n",
    "import matplotlib.pyplot as plt\n",
    "import plotly.express as px\n",
    "import warnings\n",
    "warnings.filterwarnings('ignore')\n",
    "tv_sales = pd.read_excel('C:/TV/TV_Data.xlsx')\n",
    "tv_sales.head()"
   ]
  },
  {
   "cell_type": "code",
   "execution_count": 813,
   "id": "51fd1e98",
   "metadata": {
    "scrolled": true
   },
   "outputs": [
    {
     "name": "stdout",
     "output_type": "stream",
     "text": [
      "<class 'pandas.core.frame.DataFrame'>\n",
      "RangeIndex: 4363 entries, 0 to 4362\n",
      "Data columns (total 12 columns):\n",
      " #   Column         Non-Null Count  Dtype  \n",
      "---  ------         --------------  -----  \n",
      " 0   Point of sale  4357 non-null   object \n",
      " 1   Day            4357 non-null   float64\n",
      " 2   Month          4357 non-null   float64\n",
      " 3   Year           3211 non-null   float64\n",
      " 4   Date           4363 non-null   object \n",
      " 5   Nomenclature   4357 non-null   object \n",
      " 6   Channel        4357 non-null   object \n",
      " 7   Credit         4357 non-null   object \n",
      " 8   Brand          4357 non-null   object \n",
      " 9   Price          4357 non-null   float64\n",
      " 10  Margin         4363 non-null   float64\n",
      " 11  Qty            4363 non-null   int64  \n",
      "dtypes: float64(5), int64(1), object(6)\n",
      "memory usage: 409.2+ KB\n"
     ]
    }
   ],
   "source": [
    "tv_sales.info()"
   ]
  },
  {
   "cell_type": "code",
   "execution_count": 1007,
   "id": "11d5fc0e",
   "metadata": {},
   "outputs": [
    {
     "data": {
      "text/plain": [
       "(4363, 12)"
      ]
     },
     "execution_count": 1007,
     "metadata": {},
     "output_type": "execute_result"
    }
   ],
   "source": [
    "# check shape of dataframe\n",
    "tv_sales.shape"
   ]
  },
  {
   "cell_type": "code",
   "execution_count": 1008,
   "id": "77a2dff8",
   "metadata": {
    "scrolled": true
   },
   "outputs": [
    {
     "data": {
      "text/html": [
       "<div>\n",
       "<style scoped>\n",
       "    .dataframe tbody tr th:only-of-type {\n",
       "        vertical-align: middle;\n",
       "    }\n",
       "\n",
       "    .dataframe tbody tr th {\n",
       "        vertical-align: top;\n",
       "    }\n",
       "\n",
       "    .dataframe thead th {\n",
       "        text-align: right;\n",
       "    }\n",
       "</style>\n",
       "<table border=\"1\" class=\"dataframe\">\n",
       "  <thead>\n",
       "    <tr style=\"text-align: right;\">\n",
       "      <th></th>\n",
       "      <th>Point of sale</th>\n",
       "      <th>Day</th>\n",
       "      <th>Month</th>\n",
       "      <th>Year</th>\n",
       "      <th>Date</th>\n",
       "      <th>Nomenclature</th>\n",
       "      <th>Channel</th>\n",
       "      <th>Credit</th>\n",
       "      <th>Brand</th>\n",
       "      <th>Price</th>\n",
       "      <th>Margin</th>\n",
       "      <th>Qty</th>\n",
       "    </tr>\n",
       "  </thead>\n",
       "  <tbody>\n",
       "    <tr>\n",
       "      <th>0</th>\n",
       "      <td>San Francisco</td>\n",
       "      <td>1.0</td>\n",
       "      <td>8.0</td>\n",
       "      <td>2022</td>\n",
       "      <td>1/8/</td>\n",
       "      <td>TV Samsung Q32YH-PB Smart HD</td>\n",
       "      <td>Online</td>\n",
       "      <td>Yes</td>\n",
       "      <td>Samsung</td>\n",
       "      <td>187.1278</td>\n",
       "      <td>28.069170</td>\n",
       "      <td>1</td>\n",
       "    </tr>\n",
       "    <tr>\n",
       "      <th>1</th>\n",
       "      <td>San Francisco</td>\n",
       "      <td>6.0</td>\n",
       "      <td>8.0</td>\n",
       "      <td>2022</td>\n",
       "      <td>6/8/</td>\n",
       "      <td>TV Samsung Q32YH-PB Smart HD</td>\n",
       "      <td>B2B</td>\n",
       "      <td>No</td>\n",
       "      <td>Samsung</td>\n",
       "      <td>310.0847</td>\n",
       "      <td>46.512705</td>\n",
       "      <td>1</td>\n",
       "    </tr>\n",
       "    <tr>\n",
       "      <th>2</th>\n",
       "      <td>Austin</td>\n",
       "      <td>4.0</td>\n",
       "      <td>8.0</td>\n",
       "      <td>2022</td>\n",
       "      <td>4/8/</td>\n",
       "      <td>TV Samsung Q32YH-PB Smart HD</td>\n",
       "      <td>Outlet</td>\n",
       "      <td>No</td>\n",
       "      <td>Samsung</td>\n",
       "      <td>159.3315</td>\n",
       "      <td>23.899725</td>\n",
       "      <td>1</td>\n",
       "    </tr>\n",
       "    <tr>\n",
       "      <th>3</th>\n",
       "      <td>San Francisco</td>\n",
       "      <td>6.0</td>\n",
       "      <td>8.0</td>\n",
       "      <td>2022</td>\n",
       "      <td>6/8/</td>\n",
       "      <td>TV Samsung Q32YH-PB Smart HD</td>\n",
       "      <td>Online</td>\n",
       "      <td>No</td>\n",
       "      <td>Samsung</td>\n",
       "      <td>158.7596</td>\n",
       "      <td>23.813940</td>\n",
       "      <td>1</td>\n",
       "    </tr>\n",
       "    <tr>\n",
       "      <th>4</th>\n",
       "      <td>New York</td>\n",
       "      <td>23.0</td>\n",
       "      <td>8.0</td>\n",
       "      <td>2022</td>\n",
       "      <td>23/8/</td>\n",
       "      <td>TV Samsung Q32YH-PB Smart HD</td>\n",
       "      <td>Online</td>\n",
       "      <td>Yes</td>\n",
       "      <td>Samsung</td>\n",
       "      <td>188.3516</td>\n",
       "      <td>28.252740</td>\n",
       "      <td>1</td>\n",
       "    </tr>\n",
       "  </tbody>\n",
       "</table>\n",
       "</div>"
      ],
      "text/plain": [
       "   Point of sale   Day  Month  Year   Date                  Nomenclature  \\\n",
       "0  San Francisco   1.0    8.0  2022   1/8/  TV Samsung Q32YH-PB Smart HD   \n",
       "1  San Francisco   6.0    8.0  2022   6/8/  TV Samsung Q32YH-PB Smart HD   \n",
       "2         Austin   4.0    8.0  2022   4/8/  TV Samsung Q32YH-PB Smart HD   \n",
       "3  San Francisco   6.0    8.0  2022   6/8/  TV Samsung Q32YH-PB Smart HD   \n",
       "4       New York  23.0    8.0  2022  23/8/  TV Samsung Q32YH-PB Smart HD   \n",
       "\n",
       "  Channel Credit    Brand     Price     Margin  Qty  \n",
       "0  Online    Yes  Samsung  187.1278  28.069170    1  \n",
       "1     B2B     No  Samsung  310.0847  46.512705    1  \n",
       "2  Outlet     No  Samsung  159.3315  23.899725    1  \n",
       "3  Online     No  Samsung  158.7596  23.813940    1  \n",
       "4  Online    Yes  Samsung  188.3516  28.252740    1  "
      ]
     },
     "execution_count": 1008,
     "metadata": {},
     "output_type": "execute_result"
    }
   ],
   "source": [
    "# Now let's see if there are null values in the dataset\n",
    "tv_sales_noyear = tv_sales[tv_sales['Year'].isna()]\n",
    "tv_sales_noyear['Year'] = tv_sales['Year'].fillna(2022)\n",
    "tv_sales_noyear['Year'] = tv_sales_noyear['Year'].astype(int)\n",
    "tv_sales_noyear.head()"
   ]
  },
  {
   "cell_type": "markdown",
   "id": "dd75b662",
   "metadata": {},
   "source": [
    "The dataset has null values and dates written in incomplete format. I fill zero values with the number 2022, and also converted it to int type."
   ]
  },
  {
   "cell_type": "markdown",
   "id": "2714a373",
   "metadata": {},
   "source": [
    "Then I will get the full date to make it easier to work. "
   ]
  },
  {
   "cell_type": "code",
   "execution_count": 1010,
   "id": "2b9c4223",
   "metadata": {
    "scrolled": true
   },
   "outputs": [
    {
     "data": {
      "text/html": [
       "<div>\n",
       "<style scoped>\n",
       "    .dataframe tbody tr th:only-of-type {\n",
       "        vertical-align: middle;\n",
       "    }\n",
       "\n",
       "    .dataframe tbody tr th {\n",
       "        vertical-align: top;\n",
       "    }\n",
       "\n",
       "    .dataframe thead th {\n",
       "        text-align: right;\n",
       "    }\n",
       "</style>\n",
       "<table border=\"1\" class=\"dataframe\">\n",
       "  <thead>\n",
       "    <tr style=\"text-align: right;\">\n",
       "      <th></th>\n",
       "      <th>Point of sale</th>\n",
       "      <th>Day</th>\n",
       "      <th>Month</th>\n",
       "      <th>Year</th>\n",
       "      <th>Date</th>\n",
       "      <th>Nomenclature</th>\n",
       "      <th>Channel</th>\n",
       "      <th>Credit</th>\n",
       "      <th>Brand</th>\n",
       "      <th>Price</th>\n",
       "      <th>Margin</th>\n",
       "      <th>Qty</th>\n",
       "    </tr>\n",
       "  </thead>\n",
       "  <tbody>\n",
       "    <tr>\n",
       "      <th>0</th>\n",
       "      <td>San Francisco</td>\n",
       "      <td>1.0</td>\n",
       "      <td>8.0</td>\n",
       "      <td>2022</td>\n",
       "      <td>1/8/2022</td>\n",
       "      <td>TV Samsung Q32YH-PB Smart HD</td>\n",
       "      <td>Online</td>\n",
       "      <td>Yes</td>\n",
       "      <td>Samsung</td>\n",
       "      <td>187.1278</td>\n",
       "      <td>28.069170</td>\n",
       "      <td>1</td>\n",
       "    </tr>\n",
       "    <tr>\n",
       "      <th>1</th>\n",
       "      <td>San Francisco</td>\n",
       "      <td>6.0</td>\n",
       "      <td>8.0</td>\n",
       "      <td>2022</td>\n",
       "      <td>6/8/2022</td>\n",
       "      <td>TV Samsung Q32YH-PB Smart HD</td>\n",
       "      <td>B2B</td>\n",
       "      <td>No</td>\n",
       "      <td>Samsung</td>\n",
       "      <td>310.0847</td>\n",
       "      <td>46.512705</td>\n",
       "      <td>1</td>\n",
       "    </tr>\n",
       "    <tr>\n",
       "      <th>2</th>\n",
       "      <td>Austin</td>\n",
       "      <td>4.0</td>\n",
       "      <td>8.0</td>\n",
       "      <td>2022</td>\n",
       "      <td>4/8/2022</td>\n",
       "      <td>TV Samsung Q32YH-PB Smart HD</td>\n",
       "      <td>Outlet</td>\n",
       "      <td>No</td>\n",
       "      <td>Samsung</td>\n",
       "      <td>159.3315</td>\n",
       "      <td>23.899725</td>\n",
       "      <td>1</td>\n",
       "    </tr>\n",
       "    <tr>\n",
       "      <th>3</th>\n",
       "      <td>San Francisco</td>\n",
       "      <td>6.0</td>\n",
       "      <td>8.0</td>\n",
       "      <td>2022</td>\n",
       "      <td>6/8/2022</td>\n",
       "      <td>TV Samsung Q32YH-PB Smart HD</td>\n",
       "      <td>Online</td>\n",
       "      <td>No</td>\n",
       "      <td>Samsung</td>\n",
       "      <td>158.7596</td>\n",
       "      <td>23.813940</td>\n",
       "      <td>1</td>\n",
       "    </tr>\n",
       "    <tr>\n",
       "      <th>4</th>\n",
       "      <td>New York</td>\n",
       "      <td>23.0</td>\n",
       "      <td>8.0</td>\n",
       "      <td>2022</td>\n",
       "      <td>23/8/2022</td>\n",
       "      <td>TV Samsung Q32YH-PB Smart HD</td>\n",
       "      <td>Online</td>\n",
       "      <td>Yes</td>\n",
       "      <td>Samsung</td>\n",
       "      <td>188.3516</td>\n",
       "      <td>28.252740</td>\n",
       "      <td>1</td>\n",
       "    </tr>\n",
       "  </tbody>\n",
       "</table>\n",
       "</div>"
      ],
      "text/plain": [
       "   Point of sale   Day  Month  Year       Date                  Nomenclature  \\\n",
       "0  San Francisco   1.0    8.0  2022   1/8/2022  TV Samsung Q32YH-PB Smart HD   \n",
       "1  San Francisco   6.0    8.0  2022   6/8/2022  TV Samsung Q32YH-PB Smart HD   \n",
       "2         Austin   4.0    8.0  2022   4/8/2022  TV Samsung Q32YH-PB Smart HD   \n",
       "3  San Francisco   6.0    8.0  2022   6/8/2022  TV Samsung Q32YH-PB Smart HD   \n",
       "4       New York  23.0    8.0  2022  23/8/2022  TV Samsung Q32YH-PB Smart HD   \n",
       "\n",
       "  Channel Credit    Brand     Price     Margin  Qty  \n",
       "0  Online    Yes  Samsung  187.1278  28.069170    1  \n",
       "1     B2B     No  Samsung  310.0847  46.512705    1  \n",
       "2  Outlet     No  Samsung  159.3315  23.899725    1  \n",
       "3  Online     No  Samsung  158.7596  23.813940    1  \n",
       "4  Online    Yes  Samsung  188.3516  28.252740    1  "
      ]
     },
     "execution_count": 1010,
     "metadata": {},
     "output_type": "execute_result"
    }
   ],
   "source": [
    "# I combine the 'Year' column with the 'Date' column.\n",
    "tv_sales_noyear['Date'] = tv_sales_noyear['Date'].astype(str) + tv_sales_noyear['Year'].astype(str)\n",
    "tv_sales_noyear.head()"
   ]
  },
  {
   "cell_type": "code",
   "execution_count": 821,
   "id": "0036ae7a",
   "metadata": {},
   "outputs": [
    {
     "name": "stdout",
     "output_type": "stream",
     "text": [
      "<class 'pandas.core.frame.DataFrame'>\n",
      "Int64Index: 1152 entries, 0 to 4362\n",
      "Data columns (total 12 columns):\n",
      " #   Column         Non-Null Count  Dtype  \n",
      "---  ------         --------------  -----  \n",
      " 0   Point of sale  1146 non-null   object \n",
      " 1   Day            1146 non-null   float64\n",
      " 2   Month          1146 non-null   float64\n",
      " 3   Year           1152 non-null   int32  \n",
      " 4   Date           1152 non-null   object \n",
      " 5   Nomenclature   1146 non-null   object \n",
      " 6   Channel        1146 non-null   object \n",
      " 7   Credit         1146 non-null   object \n",
      " 8   Brand          1146 non-null   object \n",
      " 9   Price          1146 non-null   float64\n",
      " 10  Margin         1152 non-null   float64\n",
      " 11  Qty            1152 non-null   int64  \n",
      "dtypes: float64(4), int32(1), int64(1), object(6)\n",
      "memory usage: 112.5+ KB\n"
     ]
    }
   ],
   "source": [
    "tv_sales_noyear.info()"
   ]
  },
  {
   "cell_type": "markdown",
   "id": "27b4b66e",
   "metadata": {},
   "source": [
    "After displaying information about the DataFrame, I see that there are still rows with null values in it. "
   ]
  },
  {
   "cell_type": "code",
   "execution_count": 1011,
   "id": "2baf9c52",
   "metadata": {},
   "outputs": [
    {
     "name": "stdout",
     "output_type": "stream",
     "text": [
      "<class 'pandas.core.frame.DataFrame'>\n",
      "Int64Index: 1146 entries, 0 to 1145\n",
      "Data columns (total 12 columns):\n",
      " #   Column         Non-Null Count  Dtype         \n",
      "---  ------         --------------  -----         \n",
      " 0   Point of sale  1146 non-null   object        \n",
      " 1   Day            1146 non-null   float64       \n",
      " 2   Month          1146 non-null   float64       \n",
      " 3   Year           1146 non-null   int32         \n",
      " 4   Date           1146 non-null   datetime64[ns]\n",
      " 5   Nomenclature   1146 non-null   object        \n",
      " 6   Channel        1146 non-null   object        \n",
      " 7   Credit         1146 non-null   object        \n",
      " 8   Brand          1146 non-null   object        \n",
      " 9   Price          1146 non-null   float64       \n",
      " 10  Margin         1146 non-null   float64       \n",
      " 11  Qty            1146 non-null   int64         \n",
      "dtypes: datetime64[ns](1), float64(4), int32(1), int64(1), object(5)\n",
      "memory usage: 111.9+ KB\n"
     ]
    }
   ],
   "source": [
    "# Converting the 'Date' column to Datetime format and deleting extra rows with missing values.\n",
    "tv_sales_noyear['Date'] = pd.to_datetime(tv_sales_noyear['Date'], dayfirst=True)\n",
    "tv_sales_noyear = tv_sales_noyear.dropna()\n",
    "tv_sales_noyear.info()"
   ]
  },
  {
   "cell_type": "code",
   "execution_count": 1012,
   "id": "dd36d010",
   "metadata": {},
   "outputs": [],
   "source": [
    "# I'm preparing a second DataFrame with non-null values in the 'Year' column.\n",
    "tv_sales_yesyear = tv_sales[tv_sales['Year'].notnull()]\n",
    "tv_sales_yesyear['Date'] = pd.to_datetime(tv_sales_yesyear['Date'], dayfirst=True)"
   ]
  },
  {
   "cell_type": "code",
   "execution_count": 1014,
   "id": "6e753e29",
   "metadata": {},
   "outputs": [
    {
     "name": "stdout",
     "output_type": "stream",
     "text": [
      "<class 'pandas.core.frame.DataFrame'>\n",
      "Int64Index: 4357 entries, 0 to 4356\n",
      "Data columns (total 12 columns):\n",
      " #   Column         Non-Null Count  Dtype         \n",
      "---  ------         --------------  -----         \n",
      " 0   Point of sale  4357 non-null   object        \n",
      " 1   Day            4357 non-null   float64       \n",
      " 2   Month          4357 non-null   float64       \n",
      " 3   Year           4357 non-null   float64       \n",
      " 4   Date           4357 non-null   datetime64[ns]\n",
      " 5   Nomenclature   4357 non-null   object        \n",
      " 6   Channel        4357 non-null   object        \n",
      " 7   Credit         4357 non-null   object        \n",
      " 8   Brand          4357 non-null   object        \n",
      " 9   Price          4357 non-null   float64       \n",
      " 10  Margin         4357 non-null   float64       \n",
      " 11  Qty            4357 non-null   int64         \n",
      "dtypes: datetime64[ns](1), float64(5), int64(1), object(5)\n",
      "memory usage: 442.5+ KB\n"
     ]
    }
   ],
   "source": [
    "# I combine the data of two DataFrame and get a clean dataset.\n",
    "tv_sales_new = pd.concat([tv_sales_noyear, tv_sales_yesyear])\n",
    "tv_sales_new.info()"
   ]
  },
  {
   "cell_type": "markdown",
   "id": "7a5f05fd",
   "metadata": {},
   "source": [
    "Let's move on to data analysis. We look at which brand and which models sell best"
   ]
  },
  {
   "cell_type": "code",
   "execution_count": 826,
   "id": "cc5e5895",
   "metadata": {},
   "outputs": [
    {
     "data": {
      "text/plain": [
       "Sony       2255\n",
       "LG         1309\n",
       "Samsung     793\n",
       "Name: Brand, dtype: int64"
      ]
     },
     "execution_count": 826,
     "metadata": {},
     "output_type": "execute_result"
    }
   ],
   "source": [
    "tv_sales_new['Brand'].value_counts()"
   ]
  },
  {
   "cell_type": "code",
   "execution_count": 827,
   "id": "0478adc7",
   "metadata": {},
   "outputs": [
    {
     "data": {
      "text/plain": [
       "TV Sony 43P615 Android 4K UHD         801\n",
       "TV LG 32H740LB HD Smart               467\n",
       "TV Sony 50P725 Android 4K UHD         395\n",
       "TV Sony 40S65A Android Full HD        332\n",
       "TV Samsung Q50YK-MB Smart 4K UHD      199\n",
       "TV Sony 32S60A Android HD             198\n",
       "TV Samsung Q55YK-MB Smart 4K UHD      179\n",
       "TV LG 43U790LW Smart 4K UHD           175\n",
       "TV Sony 32D3000 HD                    161\n",
       "TV Samsung Q32YH-PB Smart HD          157\n",
       "TV LG 40F500LB Full HD                126\n",
       "TV Samsung Q65YK-MB Smart 4K UHD      122\n",
       "TV LG 32H510KD HD                     116\n",
       "TV LG 43U740LB Smart 4K UHD           111\n",
       "TV Samsung Q43YK-MB Smart 4K UHD      103\n",
       "TV LG 55U740LB  Smart 4K UHD           96\n",
       "TV Sony 55P725 Android 4K UHD          83\n",
       "TV LG 32H740LW Android HD              80\n",
       "TV LG 40F740LB FHD Smart               78\n",
       "TV Sony 32S65A Android HD              73\n",
       "TV Sony 65P725 Android 4K UHD          49\n",
       "TV Sony 32S5200 Android TV HD          34\n",
       "TV Samsung Q40YF-PB Smart Full HD      33\n",
       "TV Sony 43P725 Android 4K UHD          31\n",
       "TV LG 50U740LB Smart 4K UHD            27\n",
       "TV Sony 50P615 Android 4K UHD          27\n",
       "TV Sony 55P615 Android 4K UHD          21\n",
       "TV Sony 43S5200KZ Smart Full HD        19\n",
       "TV Sony 43S65AKZ FHD Smart             14\n",
       "TV LG 55U710KB  Smart 4K UHD           10\n",
       "TV LG 43U710KB Smart 4K UHD             8\n",
       "TV Sony 65P615 Android 4K UHD           7\n",
       "TV LG 32H710KB HD Smart                 7\n",
       "TV Sony 50C725 Android 4K UHD QLED      6\n",
       "TV LG 50U710KB Smart 4K UHD             5\n",
       "TV Sony 65C725 Android 4K UHD QLED      3\n",
       "TV LG 40F710KB FHD Smart                2\n",
       "TV LG 50U600GR Smart 4K UHD             1\n",
       "TV Sony 50P715 Android 4K UHD           1\n",
       "Name: Nomenclature, dtype: int64"
      ]
     },
     "execution_count": 827,
     "metadata": {},
     "output_type": "execute_result"
    }
   ],
   "source": [
    "tv_sales_new['Nomenclature'].value_counts()"
   ]
  },
  {
   "cell_type": "markdown",
   "id": "a1c4c1f7",
   "metadata": {},
   "source": [
    "The best selling brand is Sony. 3 Sony models are also in the TOP-5. In addition to Sony, Samsung and LG are in the TOP-5.\n",
    "Now let's see how sales depend on the region."
   ]
  },
  {
   "cell_type": "code",
   "execution_count": 828,
   "id": "bc3ac339",
   "metadata": {},
   "outputs": [
    {
     "data": {
      "text/plain": [
       "<AxesSubplot:xlabel='Point of sale'>"
      ]
     },
     "execution_count": 828,
     "metadata": {},
     "output_type": "execute_result"
    },
    {
     "data": {
      "image/png": "[encoded data removed]",
      "text/plain": [
       "<Figure size 432x288 with 1 Axes>"
      ]
     },
     "metadata": {
      "needs_background": "light"
     },
     "output_type": "display_data"
    }
   ],
   "source": [
    "tv_sales_new.groupby('Point of sale')['Qty'].sum().sort_values(ascending=False).plot(kind='bar')"
   ]
  },
  {
   "cell_type": "code",
   "execution_count": 829,
   "id": "c269dd15",
   "metadata": {
    "scrolled": true
   },
   "outputs": [
    {
     "data": {
      "text/plain": [
       "<AxesSubplot:xlabel='Point of sale'>"
      ]
     },
     "execution_count": 829,
     "metadata": {},
     "output_type": "execute_result"
    },
    {
     "data": {
      "image/png": "[encoded data removed]",
      "text/plain": [
       "<Figure size 432x288 with 1 Axes>"
      ]
     },
     "metadata": {
      "needs_background": "light"
     },
     "output_type": "display_data"
    }
   ],
   "source": [
    "tv_sales_new.groupby(['Point of sale', 'Brand'])['Qty'].sum().unstack().plot(kind='bar')"
   ]
  },
  {
   "cell_type": "markdown",
   "id": "5bc5955f",
   "metadata": {},
   "source": [
    "We see that San Francisco is leading in sales by a wide margin. Inside the cities, the Sony brand is in the lead, everywhere except for New York, where the leader, by a small margin, is the LG brand. In general, the LG brand occupies the 2nd position in sales."
   ]
  },
  {
   "cell_type": "markdown",
   "id": "ae111a1b",
   "metadata": {},
   "source": [
    "Now let's see through which channel, on what financial terms and with what average price TVs are sold in the sales channel"
   ]
  },
  {
   "cell_type": "code",
   "execution_count": 830,
   "id": "1e73704b",
   "metadata": {
    "scrolled": true
   },
   "outputs": [
    {
     "data": {
      "text/plain": [
       "Online    2054\n",
       "Outlet    1821\n",
       "B2B        482\n",
       "Name: Channel, dtype: int64"
      ]
     },
     "execution_count": 830,
     "metadata": {},
     "output_type": "execute_result"
    }
   ],
   "source": [
    "tv_sales_new['Channel'].value_counts()"
   ]
  },
  {
   "cell_type": "code",
   "execution_count": 977,
   "id": "2f763ac0",
   "metadata": {},
   "outputs": [
    {
     "data": {
      "text/html": [
       "<div>\n",
       "<style scoped>\n",
       "    .dataframe tbody tr th:only-of-type {\n",
       "        vertical-align: middle;\n",
       "    }\n",
       "\n",
       "    .dataframe tbody tr th {\n",
       "        vertical-align: top;\n",
       "    }\n",
       "\n",
       "    .dataframe thead th {\n",
       "        text-align: right;\n",
       "    }\n",
       "</style>\n",
       "<table border=\"1\" class=\"dataframe\">\n",
       "  <thead>\n",
       "    <tr style=\"text-align: right;\">\n",
       "      <th></th>\n",
       "      <th>Price</th>\n",
       "    </tr>\n",
       "    <tr>\n",
       "      <th>Channel</th>\n",
       "      <th></th>\n",
       "    </tr>\n",
       "  </thead>\n",
       "  <tbody>\n",
       "    <tr>\n",
       "      <th>B2B</th>\n",
       "      <td>369.377270</td>\n",
       "    </tr>\n",
       "    <tr>\n",
       "      <th>Online</th>\n",
       "      <td>226.684748</td>\n",
       "    </tr>\n",
       "    <tr>\n",
       "      <th>Outlet</th>\n",
       "      <td>451.335246</td>\n",
       "    </tr>\n",
       "  </tbody>\n",
       "</table>\n",
       "</div>"
      ],
      "text/plain": [
       "              Price\n",
       "Channel            \n",
       "B2B      369.377270\n",
       "Online   226.684748\n",
       "Outlet   451.335246"
      ]
     },
     "execution_count": 977,
     "metadata": {},
     "output_type": "execute_result"
    }
   ],
   "source": [
    "tv_sales_new.pivot_table(index='Channel', values='Price', aggfunc='mean')"
   ]
  },
  {
   "cell_type": "code",
   "execution_count": 831,
   "id": "21c395d1",
   "metadata": {},
   "outputs": [
    {
     "data": {
      "text/plain": [
       "No     2817\n",
       "Yes    1540\n",
       "Name: Credit, dtype: int64"
      ]
     },
     "execution_count": 831,
     "metadata": {},
     "output_type": "execute_result"
    }
   ],
   "source": [
    "tv_sales_new['Credit'].value_counts()"
   ]
  },
  {
   "cell_type": "code",
   "execution_count": 832,
   "id": "191af8ab",
   "metadata": {},
   "outputs": [
    {
     "data": {
      "text/plain": [
       "<AxesSubplot:xlabel='Channel'>"
      ]
     },
     "execution_count": 832,
     "metadata": {},
     "output_type": "execute_result"
    },
    {
     "data": {
      "image/png": "[encoded data removed]",
      "text/plain": [
       "<Figure size 432x288 with 1 Axes>"
      ]
     },
     "metadata": {
      "needs_background": "light"
     },
     "output_type": "display_data"
    }
   ],
   "source": [
    "tv_sales_new[['Channel', 'Brand']].value_counts().unstack().plot(kind='bar')"
   ]
  },
  {
   "cell_type": "code",
   "execution_count": 833,
   "id": "b1a08892",
   "metadata": {},
   "outputs": [
    {
     "data": {
      "text/plain": [
       "<AxesSubplot:xlabel='Credit'>"
      ]
     },
     "execution_count": 833,
     "metadata": {},
     "output_type": "execute_result"
    },
    {
     "data": {
      "image/png": "[encoded data removed]",
      "text/plain": [
       "<Figure size 432x288 with 1 Axes>"
      ]
     },
     "metadata": {
      "needs_background": "light"
     },
     "output_type": "display_data"
    }
   ],
   "source": [
    "tv_sales_new[['Credit', 'Brand']].value_counts().unstack().plot(kind='bar')"
   ]
  },
  {
   "cell_type": "markdown",
   "id": "6635f1eb",
   "metadata": {},
   "source": [
    "Most purchases are made in the online store (offline outlets are second) and most purchases are made in cash.\n",
    "Samsung and LG are buying more online, while Sony is selling better in stores. The size of the check is the largest in the outlet.\n",
    "Samsung buys on credit and cash at a ratio of about 50% to 50%, while Sony and LG charge more for cash. Let's see what this is connected with by comparing brands at prices."
   ]
  },
  {
   "cell_type": "code",
   "execution_count": 834,
   "id": "7062b878",
   "metadata": {},
   "outputs": [
    {
     "data": {
      "text/plain": [
       "Brand\n",
       "LG         231.089798\n",
       "Samsung    318.947824\n",
       "Sony       403.596288\n",
       "Name: Price, dtype: float64"
      ]
     },
     "execution_count": 834,
     "metadata": {},
     "output_type": "execute_result"
    }
   ],
   "source": [
    "tv_sales_new.groupby(['Brand'])['Price'].mean()"
   ]
  },
  {
   "cell_type": "markdown",
   "id": "ee7a7b71",
   "metadata": {},
   "source": [
    "Sony initially has a higher price. As an assumption, it is because of this that most often customers buy it in an offline store. Customers want to see a product live before buying. From the price, we also assume that the target audience of the brand is more solvent, and, therefore, can afford to buy the brand for cash, and not on credit. The same can be said about LG. Since its average price is the lowest, the buyer can afford to buy it for cash. Related to this is the fact that it is more often bought online. The product is cheaper and the customer does not want to go to the store to see it. "
   ]
  },
  {
   "cell_type": "code",
   "execution_count": 1015,
   "id": "1b173bea",
   "metadata": {
    "scrolled": true
   },
   "outputs": [
    {
     "data": {
      "text/plain": [
       "Brand    Nomenclature                      \n",
       "Sony     TV Sony 43P615 Android 4K UHD         801\n",
       "LG       TV LG 32H740LB HD Smart               467\n",
       "Sony     TV Sony 50P725 Android 4K UHD         395\n",
       "         TV Sony 40S65A Android Full HD        332\n",
       "Samsung  TV Samsung Q50YK-MB Smart 4K UHD      199\n",
       "Sony     TV Sony 32S60A Android HD             198\n",
       "Samsung  TV Samsung Q55YK-MB Smart 4K UHD      179\n",
       "LG       TV LG 43U790LW Smart 4K UHD           175\n",
       "Sony     TV Sony 32D3000 HD                    161\n",
       "Samsung  TV Samsung Q32YH-PB Smart HD          157\n",
       "LG       TV LG 40F500LB Full HD                126\n",
       "Samsung  TV Samsung Q65YK-MB Smart 4K UHD      122\n",
       "LG       TV LG 32H510KD HD                     116\n",
       "         TV LG 43U740LB Smart 4K UHD           111\n",
       "Samsung  TV Samsung Q43YK-MB Smart 4K UHD      103\n",
       "LG       TV LG 55U740LB  Smart 4K UHD           96\n",
       "Sony     TV Sony 55P725 Android 4K UHD          83\n",
       "LG       TV LG 32H740LW Android HD              80\n",
       "         TV LG 40F740LB FHD Smart               78\n",
       "Sony     TV Sony 32S65A Android HD              73\n",
       "         TV Sony 65P725 Android 4K UHD          49\n",
       "         TV Sony 32S5200 Android TV HD          34\n",
       "Samsung  TV Samsung Q40YF-PB Smart Full HD      33\n",
       "Sony     TV Sony 43P725 Android 4K UHD          31\n",
       "LG       TV LG 50U740LB Smart 4K UHD            27\n",
       "Sony     TV Sony 50P615 Android 4K UHD          27\n",
       "         TV Sony 55P615 Android 4K UHD          21\n",
       "         TV Sony 43S5200KZ Smart Full HD        19\n",
       "         TV Sony 43S65AKZ FHD Smart             14\n",
       "LG       TV LG 55U710KB  Smart 4K UHD           10\n",
       "         TV LG 43U710KB Smart 4K UHD             8\n",
       "         TV LG 32H710KB HD Smart                 7\n",
       "Sony     TV Sony 65P615 Android 4K UHD           7\n",
       "         TV Sony 50C725 Android 4K UHD QLED      6\n",
       "LG       TV LG 50U710KB Smart 4K UHD             5\n",
       "Sony     TV Sony 65C725 Android 4K UHD QLED      3\n",
       "LG       TV LG 40F710KB FHD Smart                2\n",
       "Sony     TV Sony 50P715 Android 4K UHD           1\n",
       "LG       TV LG 50U600GR Smart 4K UHD             1\n",
       "Name: Qty, dtype: int64"
      ]
     },
     "execution_count": 1015,
     "metadata": {},
     "output_type": "execute_result"
    }
   ],
   "source": [
    "# Now let's see which models sell better within each brand.\n",
    "tv_sales_new.groupby(['Brand', 'Nomenclature'])['Qty'].sum().sort_values(ascending=False)"
   ]
  },
  {
   "cell_type": "markdown",
   "id": "0d96a231",
   "metadata": {},
   "source": [
    "In principle, everything here is logical. Cheaper models with 32 diagonals are better sold. However, 40, 43 and 50 diagonals are also popular."
   ]
  },
  {
   "cell_type": "markdown",
   "id": "1b95ff00",
   "metadata": {},
   "source": [
    "Now let's analyze the sales of each brand over time from 08/01 to 11/15. Here our task is to determine whether the media advertising campaign launched in Google Adwords for the period 01.10-31.10 somehow affected the sales of the LG brand."
   ]
  },
  {
   "cell_type": "code",
   "execution_count": 836,
   "id": "0b107cee",
   "metadata": {
    "scrolled": true
   },
   "outputs": [
    {
     "data": {
      "text/plain": [
       "Text(0, 0.5, 'Qty')"
      ]
     },
     "execution_count": 836,
     "metadata": {},
     "output_type": "execute_result"
    },
    {
     "data": {
      "image/png": "[encoded data removed]",
      "text/plain": [
       "<Figure size 720x216 with 1 Axes>"
      ]
     },
     "metadata": {
      "needs_background": "light"
     },
     "output_type": "display_data"
    }
   ],
   "source": [
    "brand = tv_sales_new.groupby(['Brand', 'Date'])['Qty'].sum()\n",
    "fig, ax = plt.subplots(figsize=(10, 3))\n",
    "ax.plot(brand.loc['LG'], c='red')\n",
    "ax.plot(brand.loc['Samsung'], c='green')\n",
    "ax.plot(brand.loc['Sony'], c='blue')\n",
    "ax.legend(['LG', 'Samsung', 'Sony'])\n",
    "\n",
    "ax.set_title('TV sales')\n",
    "ax.set_xlabel('Day')\n",
    "ax.set_ylabel('Qty')"
   ]
  },
  {
   "cell_type": "markdown",
   "id": "fc1b2a27",
   "metadata": {},
   "source": [
    "The graph shows that a slight rise in sales of the LG brand is observed from mid-September to the end of October, and then there is a sharp jump for all brands. Having insider information on the market, I can say that the jump is a period of a weekly sale in the market for all categories of goods from 11/04/22 to 11/13/22."
   ]
  },
  {
   "cell_type": "code",
   "execution_count": 1016,
   "id": "1add2ee9",
   "metadata": {},
   "outputs": [],
   "source": [
    "# To analyze the impact of advertising on sales and exclude outliers, we will take only the LG brand until 11/04/22\n",
    "lg_sales = tv_sales_new[(tv_sales_new['Brand'] == 'LG') & (tv_sales_new['Date'].dt.month.isin(range(8, 11)))] "
   ]
  },
  {
   "cell_type": "code",
   "execution_count": 895,
   "id": "46ab714f",
   "metadata": {},
   "outputs": [
    {
     "data": {
      "text/plain": [
       "Text(0, 0.5, 'Qty')"
      ]
     },
     "execution_count": 895,
     "metadata": {},
     "output_type": "execute_result"
    },
    {
     "data": {
      "image/png": "[encoded data removed]",
      "text/plain": [
       "<Figure size 720x216 with 1 Axes>"
      ]
     },
     "metadata": {
      "needs_background": "light"
     },
     "output_type": "display_data"
    }
   ],
   "source": [
    "brand = lg_sales.groupby(['Brand', 'Date'])['Qty'].sum()\n",
    "fig, ax = plt.subplots(figsize=(10, 3))\n",
    "ax.plot(brand.loc['LG'], c='red')\n",
    "ax.legend('LG')\n",
    "\n",
    "ax.set_title('LG sales')\n",
    "ax.set_xlabel('Day')\n",
    "ax.set_ylabel('Qty')"
   ]
  },
  {
   "cell_type": "markdown",
   "id": "3a9a11f5",
   "metadata": {},
   "source": [
    "Let's see if daily ad volume (impression volume) affects daily unit sales. "
   ]
  },
  {
   "cell_type": "code",
   "execution_count": 1021,
   "id": "56d47ebd",
   "metadata": {
    "scrolled": true
   },
   "outputs": [
    {
     "data": {
      "text/html": [
       "<div>\n",
       "<style scoped>\n",
       "    .dataframe tbody tr th:only-of-type {\n",
       "        vertical-align: middle;\n",
       "    }\n",
       "\n",
       "    .dataframe tbody tr th {\n",
       "        vertical-align: top;\n",
       "    }\n",
       "\n",
       "    .dataframe thead th {\n",
       "        text-align: right;\n",
       "    }\n",
       "</style>\n",
       "<table border=\"1\" class=\"dataframe\">\n",
       "  <thead>\n",
       "    <tr style=\"text-align: right;\">\n",
       "      <th></th>\n",
       "      <th>Day</th>\n",
       "      <th>Currency</th>\n",
       "      <th>Clicks</th>\n",
       "      <th>Impression</th>\n",
       "      <th>CTR</th>\n",
       "      <th>Avg CPC</th>\n",
       "      <th>Costs</th>\n",
       "      <th>% in the top position</th>\n",
       "      <th>% imp/ in the top position</th>\n",
       "      <th>Conversions</th>\n",
       "      <th>View-through conversions</th>\n",
       "      <th>Cost/Conversions</th>\n",
       "      <th>Conversion Rate</th>\n",
       "    </tr>\n",
       "  </thead>\n",
       "  <tbody>\n",
       "    <tr>\n",
       "      <th>0</th>\n",
       "      <td>2022-09-05</td>\n",
       "      <td>USD</td>\n",
       "      <td>1 349</td>\n",
       "      <td>71 866</td>\n",
       "      <td>1,88%</td>\n",
       "      <td>0,03</td>\n",
       "      <td>41,80</td>\n",
       "      <td>0</td>\n",
       "      <td>0</td>\n",
       "      <td>54,00</td>\n",
       "      <td>0</td>\n",
       "      <td>0,77</td>\n",
       "      <td>4,00%</td>\n",
       "    </tr>\n",
       "    <tr>\n",
       "      <th>1</th>\n",
       "      <td>2022-09-20</td>\n",
       "      <td>USD</td>\n",
       "      <td>4 410</td>\n",
       "      <td>119 313</td>\n",
       "      <td>3,70%</td>\n",
       "      <td>0,01</td>\n",
       "      <td>50,55</td>\n",
       "      <td>0</td>\n",
       "      <td>0</td>\n",
       "      <td>176,00</td>\n",
       "      <td>0</td>\n",
       "      <td>0,29</td>\n",
       "      <td>3,99%</td>\n",
       "    </tr>\n",
       "    <tr>\n",
       "      <th>2</th>\n",
       "      <td>2022-09-10</td>\n",
       "      <td>USD</td>\n",
       "      <td>370</td>\n",
       "      <td>13 021</td>\n",
       "      <td>2,84%</td>\n",
       "      <td>0,01</td>\n",
       "      <td>4,25</td>\n",
       "      <td>0</td>\n",
       "      <td>0</td>\n",
       "      <td>28,00</td>\n",
       "      <td>0</td>\n",
       "      <td>0,15</td>\n",
       "      <td>7,57%</td>\n",
       "    </tr>\n",
       "    <tr>\n",
       "      <th>3</th>\n",
       "      <td>2022-09-16</td>\n",
       "      <td>USD</td>\n",
       "      <td>5 133</td>\n",
       "      <td>146 896</td>\n",
       "      <td>3,49%</td>\n",
       "      <td>0,01</td>\n",
       "      <td>58,42</td>\n",
       "      <td>0</td>\n",
       "      <td>0</td>\n",
       "      <td>218,00</td>\n",
       "      <td>0</td>\n",
       "      <td>0,27</td>\n",
       "      <td>4,25%</td>\n",
       "    </tr>\n",
       "    <tr>\n",
       "      <th>4</th>\n",
       "      <td>2022-09-18</td>\n",
       "      <td>USD</td>\n",
       "      <td>3 845</td>\n",
       "      <td>119 948</td>\n",
       "      <td>3,21%</td>\n",
       "      <td>0,01</td>\n",
       "      <td>45,42</td>\n",
       "      <td>0</td>\n",
       "      <td>0</td>\n",
       "      <td>177,00</td>\n",
       "      <td>0</td>\n",
       "      <td>0,26</td>\n",
       "      <td>4,60%</td>\n",
       "    </tr>\n",
       "  </tbody>\n",
       "</table>\n",
       "</div>"
      ],
      "text/plain": [
       "         Day Currency Clicks Impression    CTR Avg CPC  Costs  \\\n",
       "0 2022-09-05      USD  1 349     71 866  1,88%    0,03  41,80   \n",
       "1 2022-09-20      USD  4 410    119 313  3,70%    0,01  50,55   \n",
       "2 2022-09-10      USD    370     13 021  2,84%    0,01   4,25   \n",
       "3 2022-09-16      USD  5 133    146 896  3,49%    0,01  58,42   \n",
       "4 2022-09-18      USD  3 845    119 948  3,21%    0,01  45,42   \n",
       "\n",
       "   % in the top position   % imp/ in the top position Conversions  \\\n",
       "0                      0                            0       54,00   \n",
       "1                      0                            0      176,00   \n",
       "2                      0                            0       28,00   \n",
       "3                      0                            0      218,00   \n",
       "4                      0                            0      177,00   \n",
       "\n",
       "   View-through conversions Cost/Conversions Conversion Rate  \n",
       "0                         0             0,77           4,00%  \n",
       "1                         0             0,29           3,99%  \n",
       "2                         0             0,15           7,57%  \n",
       "3                         0             0,27           4,25%  \n",
       "4                         0             0,26           4,60%  "
      ]
     },
     "execution_count": 1021,
     "metadata": {},
     "output_type": "execute_result"
    }
   ],
   "source": [
    "# Let's upload a file with advertising campaign data from Google Adwords.\n",
    "tv_adv = pd.read_csv('C:/TV/TV_Campaign_Oct.csv', parse_dates=['Day'], dayfirst=True)\n",
    "tv_adv.head()"
   ]
  },
  {
   "cell_type": "code",
   "execution_count": 1020,
   "id": "bbd4efab",
   "metadata": {},
   "outputs": [
    {
     "name": "stdout",
     "output_type": "stream",
     "text": [
      "<class 'pandas.core.frame.DataFrame'>\n",
      "RangeIndex: 30 entries, 0 to 29\n",
      "Data columns (total 13 columns):\n",
      " #   Column                       Non-Null Count  Dtype         \n",
      "---  ------                       --------------  -----         \n",
      " 0   Day                          30 non-null     datetime64[ns]\n",
      " 1   Currency                     30 non-null     object        \n",
      " 2   Clicks                       30 non-null     object        \n",
      " 3   Impression                   30 non-null     object        \n",
      " 4   CTR                          30 non-null     object        \n",
      " 5   Avg CPC                      30 non-null     object        \n",
      " 6   Costs                        30 non-null     object        \n",
      " 7   % in the top position        30 non-null     int64         \n",
      " 8    % imp/ in the top position  30 non-null     int64         \n",
      " 9   Conversions                  30 non-null     object        \n",
      " 10  View-through conversions     30 non-null     int64         \n",
      " 11  Cost/Conversions             30 non-null     object        \n",
      " 12  Conversion Rate              30 non-null     object        \n",
      "dtypes: datetime64[ns](1), int64(3), object(9)\n",
      "memory usage: 3.2+ KB\n"
     ]
    }
   ],
   "source": [
    "tv_adv.info()"
   ]
  },
  {
   "cell_type": "code",
   "execution_count": 1019,
   "id": "f223a0cc",
   "metadata": {},
   "outputs": [
    {
     "data": {
      "text/plain": [
       "(30, 13)"
      ]
     },
     "execution_count": 1019,
     "metadata": {},
     "output_type": "execute_result"
    }
   ],
   "source": [
    "tv_adv.shape"
   ]
  },
  {
   "cell_type": "code",
   "execution_count": 1022,
   "id": "040af8db",
   "metadata": {
    "scrolled": true
   },
   "outputs": [
    {
     "name": "stdout",
     "output_type": "stream",
     "text": [
      "<class 'pandas.core.frame.DataFrame'>\n",
      "RangeIndex: 30 entries, 0 to 29\n",
      "Data columns (total 13 columns):\n",
      " #   Column                       Non-Null Count  Dtype         \n",
      "---  ------                       --------------  -----         \n",
      " 0   Day                          30 non-null     datetime64[ns]\n",
      " 1   Currency                     30 non-null     object        \n",
      " 2   Clicks                       30 non-null     object        \n",
      " 3   Impression                   30 non-null     int64         \n",
      " 4   CTR                          30 non-null     object        \n",
      " 5   Avg CPC                      30 non-null     object        \n",
      " 6   Costs                        30 non-null     int64         \n",
      " 7   % in the top position        30 non-null     int64         \n",
      " 8    % imp/ in the top position  30 non-null     int64         \n",
      " 9   Conversions                  30 non-null     object        \n",
      " 10  View-through conversions     30 non-null     int64         \n",
      " 11  Cost/Conversions             30 non-null     object        \n",
      " 12  Conversion Rate              30 non-null     object        \n",
      "dtypes: datetime64[ns](1), int64(5), object(7)\n",
      "memory usage: 3.2+ KB\n"
     ]
    }
   ],
   "source": [
    "# Converting the required value 'Impression' from the Object type to the Int type\n",
    "tv_adv['Impression'] = pd.to_numeric(tv_adv['Impression'].str.replace(r\"[^\\d\\-]\", \"\"), errors=\"coerce\")\n",
    "tv_adv['Costs'] = pd.to_numeric(tv_adv['Costs'].str.replace(r\"[^\\d\\-]\", \"\"), errors=\"coerce\")\n",
    "tv_adv.info()"
   ]
  },
  {
   "cell_type": "code",
   "execution_count": 1024,
   "id": "511660cf",
   "metadata": {},
   "outputs": [
    {
     "data": {
      "text/plain": [
       "Text(0, 0.5, 'Impression')"
      ]
     },
     "execution_count": 1024,
     "metadata": {},
     "output_type": "execute_result"
    },
    {
     "data": {
      "image/png": "[encoded data removed]",
      "text/plain": [
       "<Figure size 1080x360 with 2 Axes>"
      ]
     },
     "metadata": {
      "needs_background": "light"
     },
     "output_type": "display_data"
    }
   ],
   "source": [
    "# We impose sales of the LG brand on the Impressions of the advertising campaign\n",
    "brand = lg_sales.groupby(['Brand', 'Date'])['Qty'].sum()\n",
    "fig, ax = plt.subplots(figsize=(15, 5))\n",
    "ax_twin = ax.twinx()\n",
    "ax.plot(brand.loc['LG'], c='red', label='LG')\n",
    "ax_twin.plot(tv_adv.groupby('Day')['Impression'].sum(), c='blue', label='Adv')\n",
    "\n",
    "\n",
    "ax.set_title('TV sales vs media impression')\n",
    "ax.set_xlabel('Day')\n",
    "ax.set_ylabel('Qty')\n",
    "ax_twin.set_ylabel('Impression')"
   ]
  },
  {
   "cell_type": "markdown",
   "id": "49eb4326",
   "metadata": {},
   "source": [
    "As can be seen from the graph, if we use only the available data for analysis, we can conclude that the advertising campaign had a positive impact on sales of LG brand TVs. We see no growth in sales in the first week during the start of the advertising campaign and growth in the subsequent week with a tail after the end of the campaign. You can also see how periods of higher ad impressions subsequently lead to higher TV sales."
   ]
  },
  {
   "cell_type": "markdown",
   "id": "2627c620",
   "metadata": {},
   "source": [
    "Let's calculate the ROMI for an advertising campaign"
   ]
  },
  {
   "cell_type": "code",
   "execution_count": 913,
   "id": "b0999193",
   "metadata": {},
   "outputs": [
    {
     "data": {
      "text/plain": [
       "2543"
      ]
     },
     "execution_count": 913,
     "metadata": {},
     "output_type": "execute_result"
    }
   ],
   "source": [
    "ROMI = round(((lg_sales['Margin'].sum() - tv_adv['Costs'].sum() / 100) / (tv_adv['Costs'].sum() / 100)) * 100)\n",
    "ROMI"
   ]
  },
  {
   "cell_type": "markdown",
   "id": "363521a3",
   "metadata": {},
   "source": [
    "Marketing costs paid off in full."
   ]
  },
  {
   "cell_type": "code",
   "execution_count": null,
   "id": "cba8c482",
   "metadata": {},
   "outputs": [],
   "source": []
  }
 ],
 "metadata": {
  "kernelspec": {
   "display_name": "Python 3 (ipykernel)",
   "language": "python",
   "name": "python3"
  },
  "language_info": {
   "codemirror_mode": {
    "name": "ipython",
    "version": 3
   },
   "file_extension": ".py",
   "mimetype": "text/x-python",
   "name": "python",
   "nbconvert_exporter": "python",
   "pygments_lexer": "ipython3",
   "version": "3.9.12"
  }
 },
 "nbformat": 4,
 "nbformat_minor": 5
}
